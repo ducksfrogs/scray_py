{
 "cells": [
  {
   "cell_type": "code",
   "execution_count": 4,
   "id": "e4d3b7c8-4ba5-47f5-b43f-9d1766b094a6",
   "metadata": {},
   "outputs": [],
   "source": [
    "import re\n",
    "from html import unescape\n",
    "from urllib.parse import urljoin\n",
    "\n",
    "with open(\"dp.html\") as f:\n",
    "    html = f.read()\n"
   ]
  },
  {
   "cell_type": "raw",
   "id": "89c140be-e1b4-4420-8a72-086ee1d572f2",
   "metadata": {},
   "source": [
    "re.search('a.*c', 'abcdefg124')"
   ]
  },
  {
   "cell_type": "code",
   "execution_count": 10,
   "id": "71ae6d3d-9d6f-45bc-a19a-7a11edd889ae",
   "metadata": {},
   "outputs": [
    {
     "data": {
      "text/plain": [
       "<re.Match object; span=(0, 4), match='abcd'>"
      ]
     },
     "execution_count": 10,
     "metadata": {},
     "output_type": "execute_result"
    }
   ],
   "source": [
    "re.search(r'a.*d', 'abcdefg124')"
   ]
  },
  {
   "cell_type": "code",
   "execution_count": 11,
   "id": "328e6436-716c-4299-a649-e51950796d84",
   "metadata": {},
   "outputs": [],
   "source": [
    "re.search(r'a.*d', 'abcefg124DEF')"
   ]
  },
  {
   "cell_type": "code",
   "execution_count": 12,
   "id": "5cce7fb1-0d35-4610-b064-dc565c13b66d",
   "metadata": {},
   "outputs": [
    {
     "data": {
      "text/plain": [
       "<re.Match object; span=(0, 10), match='abcefg124D'>"
      ]
     },
     "execution_count": 12,
     "metadata": {},
     "output_type": "execute_result"
    }
   ],
   "source": [
    "re.search(r'a.*d', 'abcefg124DEF', re.IGNORECASE)"
   ]
  },
  {
   "cell_type": "code",
   "execution_count": 20,
   "id": "d12162c5-d36e-401e-b42b-248cccd7a92c",
   "metadata": {},
   "outputs": [],
   "source": [
    "m = re.search('a(.*)f', 'abcefg124DEF')"
   ]
  },
  {
   "cell_type": "code",
   "execution_count": 21,
   "id": "6f5e48fd-378f-4a84-9061-74dc14aa0b05",
   "metadata": {},
   "outputs": [
    {
     "data": {
      "text/plain": [
       "<re.Match object; span=(0, 5), match='abcef'>"
      ]
     },
     "execution_count": 21,
     "metadata": {},
     "output_type": "execute_result"
    }
   ],
   "source": [
    "m"
   ]
  },
  {
   "cell_type": "code",
   "execution_count": 22,
   "id": "836397a6-1f4b-48ce-9da1-2d87772315ba",
   "metadata": {},
   "outputs": [
    {
     "data": {
      "text/plain": [
       "'abcef'"
      ]
     },
     "execution_count": 22,
     "metadata": {},
     "output_type": "execute_result"
    }
   ],
   "source": [
    "m.group(0)"
   ]
  },
  {
   "cell_type": "code",
   "execution_count": 23,
   "id": "c1df4810-c768-4de0-8e18-aa2a2ed4e55b",
   "metadata": {},
   "outputs": [
    {
     "data": {
      "text/plain": [
       "'bce'"
      ]
     },
     "execution_count": 23,
     "metadata": {},
     "output_type": "execute_result"
    }
   ],
   "source": [
    "m.group(1)"
   ]
  },
  {
   "cell_type": "code",
   "execution_count": 19,
   "id": "0799177f-34e0-482e-a042-79bfc84eb297",
   "metadata": {},
   "outputs": [
    {
     "ename": "IndexError",
     "evalue": "no such group",
     "output_type": "error",
     "traceback": [
      "\u001b[0;31m---------------------------------------------------------------------------\u001b[0m",
      "\u001b[0;31mIndexError\u001b[0m                                Traceback (most recent call last)",
      "\u001b[0;32m/tmp/ipykernel_20498/642131434.py\u001b[0m in \u001b[0;36m<module>\u001b[0;34m\u001b[0m\n\u001b[0;32m----> 1\u001b[0;31m \u001b[0mm\u001b[0m\u001b[0;34m.\u001b[0m\u001b[0mgroup\u001b[0m\u001b[0;34m(\u001b[0m\u001b[0;36m2\u001b[0m\u001b[0;34m)\u001b[0m\u001b[0;34m\u001b[0m\u001b[0;34m\u001b[0m\u001b[0m\n\u001b[0m",
      "\u001b[0;31mIndexError\u001b[0m: no such group"
     ]
    }
   ],
   "source": []
  },
  {
   "cell_type": "code",
   "execution_count": null,
   "id": "f51615ac-7495-4149-9e80-7967431ccf77",
   "metadata": {},
   "outputs": [],
   "source": []
  }
 ],
 "metadata": {
  "kernelspec": {
   "display_name": "Python 3 (ipykernel)",
   "language": "python",
   "name": "python3"
  },
  "language_info": {
   "codemirror_mode": {
    "name": "ipython",
    "version": 3
   },
   "file_extension": ".py",
   "mimetype": "text/x-python",
   "name": "python",
   "nbconvert_exporter": "python",
   "pygments_lexer": "ipython3",
   "version": "3.9.7"
  }
 },
 "nbformat": 4,
 "nbformat_minor": 5
}
