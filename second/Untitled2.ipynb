{
 "cells": [
  {
   "cell_type": "code",
   "execution_count": 1,
   "id": "9a5b2026-5b0d-424e-8fa7-462a8cf46779",
   "metadata": {},
   "outputs": [],
   "source": [
    "import csv"
   ]
  },
  {
   "cell_type": "code",
   "execution_count": null,
   "id": "a712973a-7fae-4255-974c-924960d276c7",
   "metadata": {},
   "outputs": [],
   "source": [
    "with open('dd.csv', 'w'"
   ]
  }
 ],
 "metadata": {
  "kernelspec": {
   "display_name": "Python 3 (ipykernel)",
   "language": "python",
   "name": "python3"
  },
  "language_info": {
   "codemirror_mode": {
    "name": "ipython",
    "version": 3
   },
   "file_extension": ".py",
   "mimetype": "text/x-python",
   "name": "python",
   "nbconvert_exporter": "python",
   "pygments_lexer": "ipython3",
   "version": "3.9.7"
  }
 },
 "nbformat": 4,
 "nbformat_minor": 5
}
