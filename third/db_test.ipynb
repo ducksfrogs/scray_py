{
 "cells": [
  {
   "cell_type": "code",
   "execution_count": 1,
   "id": "cc8e2318-234b-46fb-be40-adbbadfb7312",
   "metadata": {},
   "outputs": [],
   "source": [
    "import pymysql.cursors"
   ]
  },
  {
   "cell_type": "code",
   "execution_count": 2,
   "id": "bf0d6ef2-7b1e-47d3-b2f8-67dc19aad264",
   "metadata": {},
   "outputs": [],
   "source": [
    "connection = pymysql.connect(host='localhost',\n",
    "                             user='root',\n",
    "                             passwd='yama2376',\n",
    "                             db='scraping',\n",
    "                             cursorclass=pymysql.cursors.DictCursor)"
   ]
  },
  {
   "cell_type": "code",
   "execution_count": 3,
   "id": "caa1bf31-9132-455e-bdda-236a235edf3b",
   "metadata": {},
   "outputs": [],
   "source": [
    "c = connection.cursor()"
   ]
  },
  {
   "cell_type": "code",
   "execution_count": 4,
   "id": "c1f942f9-f5e9-41ad-96ee-62dc6c86ae52",
   "metadata": {},
   "outputs": [
    {
     "data": {
      "text/plain": [
       "0"
      ]
     },
     "execution_count": 4,
     "metadata": {},
     "output_type": "execute_result"
    }
   ],
   "source": [
    "c.execute('DROP TABLE IF EXISTS `cities`')"
   ]
  },
  {
   "cell_type": "code",
   "execution_count": 6,
   "id": "30c872a2-4f22-458f-a0a0-5ad300f6be15",
   "metadata": {},
   "outputs": [
    {
     "data": {
      "text/plain": [
       "0"
      ]
     },
     "execution_count": 6,
     "metadata": {},
     "output_type": "execute_result"
    }
   ],
   "source": [
    "c.execute(\"\"\"\n",
    "    CREATE TABLE `cities` (\n",
    "            `rank` integer,\n",
    "            `city` text,\n",
    "            `population` integer)\n",
    "    \"\"\")\n"
   ]
  },
  {
   "cell_type": "code",
   "execution_count": 8,
   "id": "59c4c4ae-22bc-49e9-b87f-46997cf887b5",
   "metadata": {},
   "outputs": [
    {
     "data": {
      "text/plain": [
       "1"
      ]
     },
     "execution_count": 8,
     "metadata": {},
     "output_type": "execute_result"
    }
   ],
   "source": [
    "c.execute('INSERT INTO `cities` VALUES (%(rank)s, %(city)s, %(population)s)',\n",
    "        {'rank': 2, 'city': 'KARACHI', 'population':235000})\n"
   ]
  },
  {
   "cell_type": "code",
   "execution_count": null,
   "id": "daafb41e-f5a8-4a21-937c-4467492a06f3",
   "metadata": {},
   "outputs": [],
   "source": []
  }
 ],
 "metadata": {
  "kernelspec": {
   "display_name": "Python 3 (ipykernel)",
   "language": "python",
   "name": "python3"
  },
  "language_info": {
   "codemirror_mode": {
    "name": "ipython",
    "version": 3
   },
   "file_extension": ".py",
   "mimetype": "text/x-python",
   "name": "python",
   "nbconvert_exporter": "python",
   "pygments_lexer": "ipython3",
   "version": "3.9.7"
  }
 },
 "nbformat": 4,
 "nbformat_minor": 5
}
